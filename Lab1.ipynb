{
 "cells": [
  {
   "cell_type": "code",
   "execution_count": 1,
   "metadata": {},
   "outputs": [],
   "source": [
    "import pickle as p\n",
    "import numpy as np\n",
    "import tensorflow as tf\n",
    "import random\n",
    "import lab1_utils as utils\n",
    "import tensorflow as tfa\n",
    "import numpy as np\n",
    "import matplotlib.pyplot as plt\n",
    "\n",
    "%matplotlib inline"
   ]
  },
  {
   "cell_type": "markdown",
   "metadata": {},
   "source": [
    "# Intro to TensorFlow\n",
    "\n",
    "## What is a Computation Graph?\n",
    "\n",
    "Everything in TensorFlow comes down to building a computation graph. What is a computation graph? Its just a series of math operations that occur in some order. Here is an example of a simple computation graph:\n",
    "\n",
    "<img src=\"files/computation-graph.png\">\n",
    "\n",
    "This graph takes 2 inputs, (a, b) and computes an output (e). Each node in the graph is an operation that takes some input, does some computation, and passes its output to another node.\n",
    "\n",
    "We could make this computation graph in TensorFlow in the following way:"
   ]
  },
  {
   "cell_type": "markdown",
   "metadata": {},
   "source": [
    "# we need to disable the eager execution "
   ]
  },
  {
   "cell_type": "code",
   "execution_count": 2,
   "metadata": {},
   "outputs": [],
   "source": [
    "tf.compat.v1.disable_eager_execution()\n",
    "\n"
   ]
  },
  {
   "cell_type": "code",
   "execution_count": 3,
   "metadata": {},
   "outputs": [],
   "source": [
    "a =tf.compat.v1.placeholder(tf.float32)\n",
    "\n",
    "b = tf.compat.v1.placeholder(tf.float32)\n",
    "c = tf.math.add(a, b)\n",
    "d = tf.math.subtract(b, 1)\n",
    "e = tf.math.multiply(c, d)"
   ]
  },
  {
   "cell_type": "markdown",
   "metadata": {},
   "source": [
    "Tensorflow uses tf.placeholder to handle inputs to the model. This is like making a reservation at a restaurant. The restaurant reserves a spot for 5 people, but you are free to fill those seats with any set of friends you want to. tf.placeholder lets you specify that some input will be coming in, of some shape and some type. Only when you run the computation graph do you actually provide the values of this input data. You would run this simple computation graph like this:"
   ]
  },
  {
   "cell_type": "code",
   "execution_count": 4,
   "metadata": {},
   "outputs": [
    {
     "name": "stdout",
     "output_type": "stream",
     "text": [
      "[45.0]\n"
     ]
    }
   ],
   "source": [
    "with tf.compat.v1.Session() as session:\n",
    "    a_data, b_data = 3.0, 6.0\n",
    "    feed_dict = {a: a_data, b: b_data}\n",
    "    output = session.run([e], feed_dict=feed_dict)\n",
    "    print(output) # 45.0"
   ]
  },
  {
   "cell_type": "markdown",
   "metadata": {},
   "source": [
    "We use feed_dict to pass in the actual input data into the graph. We use session.run to get the output from the c operation in the graph. Since e is at the end of the graph, this ends up running the entire graph and returning the number 45 - cool!"
   ]
  },
  {
   "cell_type": "markdown",
   "metadata": {
    "collapsed": true
   },
   "source": [
    "## Neural Networks in Tensorflow\n",
    "\n",
    "We can define neural networks in TensorFlow using computation graphs. Here is an example, very simple neural network (just 1 perceptron):\n",
    "\n",
    "<img src=\"files/computation-graph-2.png\">\n",
    "\n",
    "This graph takes an input, (x) and computes an output (out). It does it with what we learned in class, `out = sigmoid(W*x+b)`.\n",
    "\n",
    "We could make this computation graph in TensorFlow in the following way:"
   ]
  },
  {
   "cell_type": "code",
   "execution_count": 5,
   "metadata": {},
   "outputs": [],
   "source": [
    "n_input_nodes = 2\n",
    "n_output_nodes = 1\n",
    "x = tf.compat.v1.placeholder(tf.float32, (None, n_input_nodes))\n",
    "W = tf.Variable(tf.ones((n_input_nodes, n_output_nodes)), dtype=tf.float32)\n",
    "b = tf.Variable(tf.zeros(n_output_nodes), dtype=tf.float32)\n",
    "\n",
    "'''TODO: Define the operation for z (use tf.matmul to multiply W and x).'''\n",
    "z = tf.matmul(W,x)+b\n",
    "\n",
    "'''TODO: Define the operation for out (use tf.sigmoid).'''\n",
    "out = tf.sigmoid(z)"
   ]
  },
  {
   "cell_type": "markdown",
   "metadata": {},
   "source": [
    "To run this graph, we again use session.run() and feed in our input via feed_dict."
   ]
  },
  {
   "cell_type": "code",
   "execution_count": 6,
   "metadata": {},
   "outputs": [
    {
     "name": "stdout",
     "output_type": "stream",
     "text": [
      "[[0.6224593 0.6224593]\n",
      " [0.6224593 0.6224593]]\n"
     ]
    }
   ],
   "source": [
    "test_input = [[0.5, 0.5]]\n",
    "with tf.compat.v1.Session() as session:\n",
    "    tf.compat.v1.global_variables_initializer().run(session=session)\n",
    "    feed_dict = {x: test_input}\n",
    "    output = session.run([out], feed_dict=feed_dict)\n",
    "    print(output[0]) # This should output 0.73105. If not, double-check your code above"
   ]
  },
  {
   "cell_type": "markdown",
   "metadata": {},
   "source": [
    "We can also set the value of a tf.Variable when we make it. Below is an example where we set the value of tf.Variable ourselves. We've made a classification dataset for you to play around with, and see how the decision boundary changes with the model parameters (weights and bias). Try to get all the datapoints correct (green)!"
   ]
  },
  {
   "cell_type": "code",
   "execution_count": 7,
   "metadata": {},
   "outputs": [
    {
     "data": {
      "image/png": "[encoded data removed]",
      "text/plain": [
       "<Figure size 432x288 with 1 Axes>"
      ]
     },
     "metadata": {
      "needs_background": "light"
     },
     "output_type": "display_data"
    },
    {
     "data": {
      "image/png": "[encoded data removed]",
      "text/plain": [
       "<Figure size 432x288 with 1 Axes>"
      ]
     },
     "metadata": {
      "needs_background": "light"
     },
     "output_type": "display_data"
    },
    {
     "name": "stdout",
     "output_type": "stream",
     "text": [
      "predictions [array([[0.8455347]], dtype=float32), array([[0.85814893]], dtype=float32), array([[0.59868765]], dtype=float32), array([[0.6899744]], dtype=float32), array([[0.66818774]], dtype=float32), array([[0.78583497]], dtype=float32), array([[0.7109495]], dtype=float32), array([[0.76852477]], dtype=float32), array([[0.6899744]], dtype=float32), array([[0.7502601]], dtype=float32), array([[0.66818774]], dtype=float32)]\n"
     ]
    }
   ],
   "source": [
    "'''TODO: manually optimize weight_values and bias_value to classify points'''\n",
    "\n",
    "# Modify weight_values, bias_value in the above code to adjust the decision boundary\n",
    "# See if you can classify all the points correctly (all markers green)\n",
    "\n",
    "weight_values = np.array([[-0.1], [0.2]]) # TODO change values and re-run\n",
    "bias_value = np.array([[0.5]]) #TODO change values and re-run\n",
    "\n",
    "# A pretty good boundary is made with:\n",
    "# weight_values = np.array([[0.03], [0.12]])\n",
    "# bias_value = np.array([[-0.5]])\n",
    "\n",
    "x = tf.compat.v1.placeholder(tf.float32, (None, 2), name='x')\n",
    "W = tf.Variable(weight_values, name='W', dtype=tf.float32)\n",
    "b = tf.Variable(bias_value, name='b', dtype=tf.float32)\n",
    "z = tf.matmul(x, W) + b\n",
    "out = tf.sigmoid(z)\n",
    "\n",
    "data = np.array([[2, 7], [1, 7], [3, 1], [3, 3], [4, 3], [4, 6], [6, 5], [7, 7], [7, 5], [2, 4], [2, 2]])\n",
    "y = np.array([1, 1, 0, 0, 0, 1, 1, 1, 1, 0, 0])\n",
    "with tf.compat.v1.Session() as session:\n",
    "    tf.compat.v1.global_variables_initializer().run(session=session)\n",
    "    utils.classify_and_plot(data, y, x, out, session)"
   ]
  },
  {
   "cell_type": "markdown",
   "metadata": {},
   "source": [
    "## Tweet Sentiment Analysis"
   ]
  },
  {
   "cell_type": "markdown",
   "metadata": {},
   "source": [
    "Let's move to a real-world task. We're going to be classifying tweets as positive, negative, or neutral. Check out the very negative tweet below:"
   ]
  },
  {
   "cell_type": "markdown",
   "metadata": {},
   "source": [
    "<img src=\"files/tweet-model.jpg\" style=\"width: 500px;\">\n"
   ]
  },
  {
   "cell_type": "markdown",
   "metadata": {},
   "source": [
    "## Building the Model\n",
    "\n",
    "### Building an MLP\n",
    "\n",
    "MLP or Multi-layer perceptron is a basic archetecture where where we multiply our representation with some matrix `W` and add some bias `b` and then apply some nonlinearity like `tanh` at each layer. Layers are fully connected to the next. As the network gets deeper, it's expressive power grows exponentially and so they can draw some pretty fancy decision boundaries. In this exercise, you'll build your own MLP, with 2 hidden layers (layers that aren't input or output).\n",
    "\n",
    "To make training more stable and efficient, we'll actually evaluate 128 tweets at a time, and take gradients with respect to the loss on the 128. We call this idea **training with mini-batches**.\n",
    "\n",
    "### Step 1: Representing Words\n",
    "\n",
    "In this model, we’ll be representing tweets as [bag-of-words](https://en.wikipedia.org/wiki/Bag-of-words_model) (BOW) representations. BOW representations are vectors where each element index represents a different word and its value represents the number of times this word appears in our sentence. This means that each sentence will be represented by a vector that is vocab_size long. Our output labels will be represented as a vector of size n_classes (3). We get this data with some utility functions:"
   ]
  },
  {
   "cell_type": "code",
   "execution_count": 8,
   "metadata": {},
   "outputs": [
    {
     "name": "stdout",
     "output_type": "stream",
     "text": [
      "Tweet: @VirginAmerica seriously would pay $30 a flight for seats that didn't have this playing.\r\n",
      "it's really the only bad thing about flying VA\n",
      "Label: [0. 0. 1.]\n",
      "Bag of Words Representation: [0. 1. 0. ... 0. 0. 0.]\n"
     ]
    }
   ],
   "source": [
    "# load data\n",
    "X, y, index_to_word, sentences = utils.load_sentiment_data_bow()\n",
    "X_train, y_train, X_test, y_test = utils.split_data(X, y)\n",
    "vocab_size = X.shape[1]\n",
    "n_classes = y.shape[1]\n",
    "\n",
    "print(\"Tweet:\", sentences[5])\n",
    "print(\"Label:\", y[5])\n",
    "print(\"Bag of Words Representation:\", X_train[5])"
   ]
  },
  {
   "cell_type": "markdown",
   "metadata": {},
   "source": [
    "### Step 2: Making Placeholders"
   ]
  },
  {
   "cell_type": "markdown",
   "metadata": {},
   "source": [
    "So we have our data loaded as numpy arrays. But remember, TensorFlow graphs begin with generic placeholder inputs, not actual data. We feed the actual data in later once the full graph has been defined. We define our placeholders like this:"
   ]
  },
  {
   "cell_type": "code",
   "execution_count": 9,
   "metadata": {},
   "outputs": [],
   "source": [
    "data_placeholder = tf.compat.v1.placeholder(tf.float32, shape=(None, vocab_size), name='data_placeholder')\n",
    "\n",
    "'''TODO: Make the labels placeholder.''';\n",
    "labels_placeholder = tf.compat.v1.placeholder(tf.float32,shape=(None,vocab_size),name='labels_placeholder')"
   ]
  },
  {
   "cell_type": "markdown",
   "metadata": {},
   "source": [
    "#### Why Do We Pass in None?\n",
    "\n",
    "A note about ‘None’ and fluid-sized dimensions:\n",
    "\n",
    "You may notice that the first dimension of shape of data_placeholder is ‘None’. data_placeholder should have shape (num_tweets, vocab_size). However, we don’t know how many tweets we are going to be passing in at a time, num_tweets is unknown. Its possible that we only want to pass in 1 tweet at a time, or 30, or 1,000. Thankfully, TensorFlow allows us to specify placeholders with fluid-sized dimensions. We can use None to specify some fluid dimension of our shape. When our data eventually gets passed in as a numpy array, TensorFlow can figure out what the value of the fluid-size dimension should be.\n",
    "\n",
    "### Step 3: Define Network Parameters\n",
    "Let’s now define and initialize our network parameters.\n",
    "\n",
    "We'll our model parameters using tf.Variable. When you create a tf.Variable you pass a Tensor as its initial value to the Variable() constructor. A Tensor is a term for any N-dimensional matrix. There are a ton of different initial Tensor value functions you can use ([full list](https://www.tensorflow.org/api_docs/python/constant_op/)). All these functions take a list argument that determines their shape. Here we use tf.truncated_normal for our weights, and tf.zeros for our biases. Its important that the shape of these parameters are compatible. We’ll be matrix-multiplying the weights, so the last dimension of the previous weight matrix must equal the first dimension of the next weight matrix. Notice this pattern in the following tensor initialization code. Lastly, notice the size of the tensor for our last weights. We are predicting a vector of size n_classes so our network needs to end with n_classes nodes."
   ]
  },
  {
   "cell_type": "code",
   "execution_count": 12,
   "metadata": {},
   "outputs": [],
   "source": [
    "# Define Network Parameters\n",
    "\n",
    "# Here, we can define how many units will be in each hidden layer.\n",
    "n_hidden_units_h0 = 512 \n",
    "n_hidden_units_h1 = 256\n",
    "\n",
    "# Weights going from input to first hidden layer.\n",
    "# The first value passed into tf.Variable is initialization of the variable. \n",
    "# We initialize our weights to be sampled from a truncated normal, as this does something \n",
    "# called symmetry breaking and keeps the neural network from getting stuck at the start.\n",
    "# Since the weight matrix multiplies the previous layer to get inputs to the next layer,\n",
    "# its size is prev_layer_size x next_layer_size.\n",
    "h0_weights = tf.Variable(\n",
    "    tf.random.truncated_normal([vocab_size, n_hidden_units_h0]),\n",
    "    name='h0_weights')\n",
    "h0_biases = tf.Variable(tf.zeros([n_hidden_units_h0]),\n",
    "                     name='h0_biases')\n",
    "\n",
    "'''TODO: Set up variables for the weights going into the second hidden layer.  \n",
    "You can check out the tf.Variable API here: https.://www.tensorflow.org/api_docs/python/tf/Variable.\n",
    "''';\n",
    "h1_weights = tf.Variable(tf.random.truncated_normal([n_hidden_units_h0,n_hidden_units_h1]),name='h1_weights')\n",
    "h1_biases = tf.Variable(tf.zeros([n_hidden_units_h1]),name='h1_biases')\n",
    "\n",
    "# Weights going into the output layer.\n",
    "out_weights = tf.Variable(\n",
    "    tf.random.truncated_normal([n_hidden_units_h1, n_classes]),\n",
    "    name='out_weights')\n",
    "out_biases = tf.Variable(tf.zeros([n_classes]),\n",
    "                     name='out_biases')"
   ]
  },
  {
   "cell_type": "markdown",
   "metadata": {},
   "source": [
    "### Step 4: Build Computation Graph\n",
    "\n",
    "Now let’s define our computation graph.\n",
    "\n",
    "Our first operation in our graph is a tf.matmul of our data input and our first set of weights. tf.matmul performs a matrix multiplication of two tensors. This is why it is so important that the dimensions of data_placeholder and h0_weights align (dimension 1 of data_placeholder must equal dimension 0 of h0_weights). We then just add the h0_bias variable and perform a nonlinearity transformation, in this case we use tf.nn.relu (ReLU). We do this again for the next hidden layer, and the final output logits."
   ]
  },
  {
   "cell_type": "code",
   "execution_count": 15,
   "metadata": {},
   "outputs": [],
   "source": [
    "# Define Computation Graphs\n",
    "hidden0 = tf.nn.relu(tf.matmul(data_placeholder, h0_weights) + h0_biases)\n",
    "#print(hidden0.shape)\n",
    "'''TODO: write the computation to get the output of the second hidden layer.''';\n",
    "hidden1 = tf.nn.relu(tf.matmul(hidden0,h1_weights)+h1_biases)\n",
    "\n",
    "logits = tf.matmul(hidden1, out_weights) + out_biases"
   ]
  },
  {
   "cell_type": "markdown",
   "metadata": {},
   "source": [
    "### Step 5: Define a Loss Functions\n",
    "\n",
    "We have defined our network, but we need a way to train it. Training a network comes down to optimizing our network to minimize a loss function, or a measure how good we're doing.  Then, we can take the gradient with respect to that performance and move in the right direction.\n",
    "\n",
    "Since we are doing classification (pos vs neg), a common loss function to use is [cross entropy](https://colah.github.io/posts/2015-09-Visual-Information/):\n",
    "\n",
    "$$L( \\Theta ) = - \\sum_i  y_i'\\log{y_i}  $$\n",
    "\n",
    "where $y$ is our predicted probability distribution and $y'$ is the true distribution. We can access this function in tensorflow with `tf.nn.softmax_cross_entropy_with_logits`. \n",
    "\n",
    "Note that this loss is 0 if the prediction is correct.\n"
   ]
  },
  {
   "cell_type": "code",
   "execution_count": 17,
   "metadata": {},
   "outputs": [],
   "source": [
    "'''TODO: Define the loss.  Use tf.nn.softmax_cross_entropy_with_logits.'''\n",
    "loss =  tf.reduce_mean(\n",
    "    tf.nn.softmax_cross_entropy_with_logits(logits=logits, labels=labels_placeholder))\n",
    "learning_rate = 0.0002\n",
    "\n",
    "# Define the optimizer operation.  This is what will take the derivate of the loss \n",
    "# with respect to each of our parameters and try to minimize it.\n",
    "optimizer = tf.compat.v1.train.GradientDescentOptimizer(learning_rate).minimize(loss)\n",
    "prediction = tf.nn.softmax(logits)\n",
    "\n",
    "# Compute the accuracy\n",
    "prediction_is_correct = tf.equal(tf.argmax(logits, 1), tf.argmax(labels_placeholder, 1))\n",
    "accuracy = tf.reduce_mean(tf.cast(prediction_is_correct, tf.float32))"
   ]
  },
  {
   "cell_type": "markdown",
   "metadata": {},
   "source": [
    "#### Quick Conceptual Note:\n",
    "Nearly everything we do in TensorFlow is an operation with inputs and outputs. Our loss variable is an operation, that takes the output of the last layer of the net, which takes the output of the 2nd-to-last layer of the net, and so on. Our loss can be traced back to the input as a single function. This is our full computation graph. We pass this to our optimizer which is able to compute the gradient for this computation graph and adjust all the weights in it to minimize the loss.\n",
    "\n",
    "### Step 6: Training our Net\n",
    "We have our network, our loss function, and our optimizer ready, now we just need to pass in the data to train it. We pass in the data in chunks called mini-batches.  We do backpropogation at the end of a batch based on the loss that results from all the examples in the batch.  Using batches is just like Stochastic Gradient Descent, except instead of updating parameters after each example, we update them based on the gradient computed after *several* examples.\n",
    "\n",
    "To measure how well we're doing, we can't just look at how well our model performs on it's training data. It could be just memorizing the training data and perform terribly on data it hasn't seen before. To really measure how it performs in the wild, we need to present it with unseen data, and we can tune our hyper-parameters (like learning rate, num layers etc.) over this first unseen set, which we call our development (or validation) set. However, given that we optimized our hyper-parameters to the development set, to get a true fair assesment of the model, we test it with respect to a held-out test set at the end, and generally report those numbers.\n",
    "\n",
    "For now, we'll just use a training set and a testing set.  We'll train with the training set and evaluate on the test set to see how well our model performs."
   ]
  },
  {
   "cell_type": "code",
   "execution_count": 20,
   "metadata": {
    "scrolled": true
   },
   "outputs": [
    {
     "ename": "ValueError",
     "evalue": "Cannot feed value of shape (128, 3) for Tensor 'labels_placeholder:0', which has shape '(None, 1956)'",
     "output_type": "error",
     "traceback": [
      "\u001b[1;31m---------------------------------------------------------------------------\u001b[0m",
      "\u001b[1;31mValueError\u001b[0m                                Traceback (most recent call last)",
      "\u001b[1;32m~\\AppData\\Local\\Temp/ipykernel_11524/1939093507.py\u001b[0m in \u001b[0;36m<module>\u001b[1;34m\u001b[0m\n\u001b[0;32m     18\u001b[0m         \u001b[1;31m# Run the optimizer, the loss, the predictions.\u001b[0m\u001b[1;33m\u001b[0m\u001b[1;33m\u001b[0m\u001b[1;33m\u001b[0m\u001b[0m\n\u001b[0;32m     19\u001b[0m         \u001b[1;31m# We can run multiple things at once and get their outputs.\u001b[0m\u001b[1;33m\u001b[0m\u001b[1;33m\u001b[0m\u001b[1;33m\u001b[0m\u001b[0m\n\u001b[1;32m---> 20\u001b[1;33m         _, loss_value_train, predictions_value_train, accuracy_value_train = session.run(\n\u001b[0m\u001b[0;32m     21\u001b[0m           [optimizer, loss, prediction, accuracy], feed_dict=feed_dict_train)\n\u001b[0;32m     22\u001b[0m \u001b[1;33m\u001b[0m\u001b[0m\n",
      "\u001b[1;32m~\\AppData\\Roaming\\Python\\Python39\\site-packages\\tensorflow\\python\\client\\session.py\u001b[0m in \u001b[0;36mrun\u001b[1;34m(self, fetches, feed_dict, options, run_metadata)\u001b[0m\n\u001b[0;32m    965\u001b[0m \u001b[1;33m\u001b[0m\u001b[0m\n\u001b[0;32m    966\u001b[0m     \u001b[1;32mtry\u001b[0m\u001b[1;33m:\u001b[0m\u001b[1;33m\u001b[0m\u001b[1;33m\u001b[0m\u001b[0m\n\u001b[1;32m--> 967\u001b[1;33m       result = self._run(None, fetches, feed_dict, options_ptr,\n\u001b[0m\u001b[0;32m    968\u001b[0m                          run_metadata_ptr)\n\u001b[0;32m    969\u001b[0m       \u001b[1;32mif\u001b[0m \u001b[0mrun_metadata\u001b[0m\u001b[1;33m:\u001b[0m\u001b[1;33m\u001b[0m\u001b[1;33m\u001b[0m\u001b[0m\n",
      "\u001b[1;32m~\\AppData\\Roaming\\Python\\Python39\\site-packages\\tensorflow\\python\\client\\session.py\u001b[0m in \u001b[0;36m_run\u001b[1;34m(self, handle, fetches, feed_dict, options, run_metadata)\u001b[0m\n\u001b[0;32m   1162\u001b[0m           if (not is_tensor_handle_feed and\n\u001b[0;32m   1163\u001b[0m               not subfeed_t.get_shape().is_compatible_with(np_val.shape)):\n\u001b[1;32m-> 1164\u001b[1;33m             raise ValueError(\n\u001b[0m\u001b[0;32m   1165\u001b[0m                 \u001b[1;34m'Cannot feed value of shape %r for Tensor %r, '\u001b[0m\u001b[1;33m\u001b[0m\u001b[1;33m\u001b[0m\u001b[0m\n\u001b[0;32m   1166\u001b[0m                 \u001b[1;34m'which has shape %r'\u001b[0m \u001b[1;33m%\u001b[0m\u001b[1;33m\u001b[0m\u001b[1;33m\u001b[0m\u001b[0m\n",
      "\u001b[1;31mValueError\u001b[0m: Cannot feed value of shape (128, 3) for Tensor 'labels_placeholder:0', which has shape '(None, 1956)'"
     ]
    }
   ],
   "source": [
    "num_steps = 3000\n",
    "batch_size = 128\n",
    "\n",
    "with tf.compat.v1.Session() as session:\n",
    "    \n",
    "    # this operation initializes all the variables we made earlier.\n",
    "    tf.compat.v1.global_variables_initializer().run()\n",
    "\n",
    "    for step in range(num_steps):\n",
    "        # Generate a minibatch.\n",
    "        offset = (step * batch_size) % (X_train.shape[0] - batch_size)\n",
    "        batch_data = X_train[offset:(offset + batch_size), :]\n",
    "        batch_labels = y_train[offset:(offset + batch_size), :]\n",
    "        \n",
    "        # Create a dictionary to pass in the batch data.\n",
    "        feed_dict_train = {data_placeholder: batch_data, labels_placeholder : batch_labels}\n",
    "        \n",
    "        # Run the optimizer, the loss, the predictions.\n",
    "        # We can run multiple things at once and get their outputs.\n",
    "        _, loss_value_train, predictions_value_train, accuracy_value_train = session.run(\n",
    "          [optimizer, loss, prediction, accuracy], feed_dict=feed_dict_train)\n",
    "        \n",
    "        # Print stuff every once in a while.\n",
    "        if (step % 100 == 0):\n",
    "            print(\"Minibatch train loss at step\", step, \":\", loss_value_train)\n",
    "            print(\"Minibatch train accuracy: %.3f%%\" % (accuracy_value_train*100))\n",
    "            feed_dict_test = {data_placeholder: X_test, labels_placeholder: y_test}\n",
    "            loss_value_test, predictions_value_test, accuracy_value_test = session.run(\n",
    "                [loss, prediction, accuracy], feed_dict=feed_dict_test)\n",
    "            print(\"Test loss: %.3f\" % loss_value_test)\n",
    "            print(\"Test accuracy: %.3f%%\" % (accuracy_value_test*100))"
   ]
  },
  {
   "cell_type": "markdown",
   "metadata": {},
   "source": [
    "Running this code, you’ll see the network train and output its performance as it learns. I was able to get it to 65.5% accuracy. This is just OK, considering random guessing gets you 33.3% accuracy. In the next tutorial, you'll learn some ways to improve upon this.\n",
    "\n",
    "## Concluding Thoughts\n",
    "This was a brief introduction into TensorFlow. There is so, so much more to learn and explore, but hopefully this has given you some base knowledge to expand upon. As an additional exercise, you can see what you can do with this code to improve the performance. Ideas include: randomizing mini-batches, making the network deeper, using word embeddings (see below) rather than bag-of-words, trying different optimizers (like Adam), different weight initializations. We’ll explore some of these tomorrow.\n",
    "\n",
    "#### More on Word Embeddings\n",
    "\n",
    "In this lab we used Bag-of-Words to represent a tweet.  Word Embeddings are a more meaningful representation.  The basic idea is we represent a word with a vector $\\phi$ by the context the word appears in. We do this by training a neural network to predict the context of words across a large training set. The weights of that neural network can then be thought of as a dense and useful representation that captures context. This is useful because now our representations of words captures actual semantic similarity.\n",
    "\n",
    "Word Embeddings capture all kinds of useful semantic relationships. For example, one cool emergent property is $ \\phi(king) - \\phi(queen) = \\phi(man) - \\phi(woman)$. To learn more about the magic behind word embeddings we recommend Chris Olah's [blog post](https://colah.github.io/posts/2014-07-NLP-RNNs-Representations/). A common tool for generating Word Embeddings is word2vec."
   ]
  },
  {
   "cell_type": "code",
   "execution_count": null,
   "metadata": {
    "collapsed": true
   },
   "outputs": [],
   "source": []
  },
  {
   "cell_type": "code",
   "execution_count": null,
   "metadata": {
    "collapsed": true
   },
   "outputs": [],
   "source": []
  },
  {
   "cell_type": "code",
   "execution_count": null,
   "metadata": {
    "collapsed": true
   },
   "outputs": [],
   "source": []
  },
  {
   "cell_type": "code",
   "execution_count": null,
   "metadata": {
    "collapsed": true
   },
   "outputs": [],
   "source": []
  },
  {
   "cell_type": "markdown",
   "metadata": {},
   "source": [
    "# Solutions"
   ]
  },
  {
   "cell_type": "code",
   "execution_count": 29,
   "metadata": {},
   "outputs": [
    {
     "name": "stdout",
     "output_type": "stream",
     "text": [
      "[45.0]\n",
      "[[0.7310586]]\n"
     ]
    },
    {
     "data": {
      "image/png": "[encoded data removed]",
      "text/plain": [
       "<Figure size 432x288 with 1 Axes>"
      ]
     },
     "metadata": {
      "needs_background": "light"
     },
     "output_type": "display_data"
    },
    {
     "data": {
      "image/png": "[encoded data removed]",
      "text/plain": [
       "<Figure size 432x288 with 1 Axes>"
      ]
     },
     "metadata": {
      "needs_background": "light"
     },
     "output_type": "display_data"
    },
    {
     "name": "stdout",
     "output_type": "stream",
     "text": [
      "predictions [array([[0.59868765]], dtype=float32), array([[0.591459]], dtype=float32), array([[0.42800388]], dtype=float32), array([[0.4875026]], dtype=float32), array([[0.49500015]], dtype=float32), array([[0.5841905]], dtype=float32), array([[0.5695462]], dtype=float32), array([[0.6341356]], dtype=float32), array([[0.5768852]], dtype=float32), array([[0.5099987]], dtype=float32), array([[0.450166]], dtype=float32)]\n",
      "Tweet: @VirginAmerica seriously would pay $30 a flight for seats that didn't have this playing.\n",
      "it's really the only bad thing about flying VA\n",
      "Label: [0. 0. 1.]\n",
      "Bag of Words Representation: [0. 1. 0. ... 0. 0. 0.]\n",
      "Minibatch train loss at step 0 : 413.20044\n",
      "Minibatch train accuracy: 35.938%\n",
      "Test loss: 416.210\n",
      "Test accuracy: 31.796%\n",
      "Minibatch train loss at step 100 : 232.18047\n",
      "Minibatch train accuracy: 47.656%\n",
      "Test loss: 215.788\n",
      "Test accuracy: 53.142%\n",
      "Minibatch train loss at step 200 : 192.09142\n",
      "Minibatch train accuracy: 57.031%\n",
      "Test loss: 188.763\n",
      "Test accuracy: 58.846%\n",
      "Minibatch train loss at step 300 : 210.73618\n",
      "Minibatch train accuracy: 47.656%\n",
      "Test loss: 173.675\n",
      "Test accuracy: 56.455%\n",
      "Minibatch train loss at step 400 : 203.19766\n",
      "Minibatch train accuracy: 39.844%\n",
      "Test loss: 164.153\n",
      "Test accuracy: 54.542%\n",
      "Minibatch train loss at step 500 : 186.76666\n",
      "Minibatch train accuracy: 39.062%\n",
      "Test loss: 161.177\n",
      "Test accuracy: 52.630%\n",
      "Minibatch train loss at step 600 : 149.22784\n",
      "Minibatch train accuracy: 53.906%\n",
      "Test loss: 148.403\n",
      "Test accuracy: 53.825%\n",
      "Minibatch train loss at step 700 : 145.43855\n",
      "Minibatch train accuracy: 48.438%\n",
      "Test loss: 147.865\n",
      "Test accuracy: 51.981%\n",
      "Minibatch train loss at step 800 : 82.665375\n",
      "Minibatch train accuracy: 64.062%\n",
      "Test loss: 131.124\n",
      "Test accuracy: 56.113%\n",
      "Minibatch train loss at step 900 : 106.04811\n",
      "Minibatch train accuracy: 67.188%\n",
      "Test loss: 120.513\n",
      "Test accuracy: 58.777%\n",
      "Minibatch train loss at step 1000 : 104.7628\n",
      "Minibatch train accuracy: 62.500%\n",
      "Test loss: 121.247\n",
      "Test accuracy: 57.001%\n",
      "Minibatch train loss at step 1100 : 99.29472\n",
      "Minibatch train accuracy: 57.812%\n",
      "Test loss: 109.762\n",
      "Test accuracy: 61.749%\n",
      "Minibatch train loss at step 1200 : 114.95427\n",
      "Minibatch train accuracy: 59.375%\n",
      "Test loss: 106.282\n",
      "Test accuracy: 61.885%\n",
      "Minibatch train loss at step 1300 : 117.33983\n",
      "Minibatch train accuracy: 57.031%\n",
      "Test loss: 104.057\n",
      "Test accuracy: 60.587%\n",
      "Minibatch train loss at step 1400 : 107.76373\n",
      "Minibatch train accuracy: 54.688%\n",
      "Test loss: 101.504\n",
      "Test accuracy: 60.041%\n",
      "Minibatch train loss at step 1500 : 85.56496\n",
      "Minibatch train accuracy: 59.375%\n",
      "Test loss: 100.651\n",
      "Test accuracy: 59.392%\n",
      "Minibatch train loss at step 1600 : 91.18194\n",
      "Minibatch train accuracy: 53.906%\n",
      "Test loss: 100.201\n",
      "Test accuracy: 58.299%\n",
      "Minibatch train loss at step 1700 : 65.09007\n",
      "Minibatch train accuracy: 68.750%\n",
      "Test loss: 102.336\n",
      "Test accuracy: 56.284%\n",
      "Minibatch train loss at step 1800 : 58.029915\n",
      "Minibatch train accuracy: 74.219%\n",
      "Test loss: 89.387\n",
      "Test accuracy: 62.295%\n",
      "Minibatch train loss at step 1900 : 81.97588\n",
      "Minibatch train accuracy: 61.719%\n",
      "Test loss: 88.830\n",
      "Test accuracy: 60.929%\n",
      "Minibatch train loss at step 2000 : 57.358337\n",
      "Minibatch train accuracy: 71.094%\n",
      "Test loss: 86.319\n",
      "Test accuracy: 61.612%\n",
      "Minibatch train loss at step 2100 : 85.41127\n",
      "Minibatch train accuracy: 64.062%\n",
      "Test loss: 82.136\n",
      "Test accuracy: 64.105%\n",
      "Minibatch train loss at step 2200 : 91.70783\n",
      "Minibatch train accuracy: 51.562%\n",
      "Test loss: 83.810\n",
      "Test accuracy: 60.690%\n",
      "Minibatch train loss at step 2300 : 71.066895\n",
      "Minibatch train accuracy: 61.719%\n",
      "Test loss: 83.009\n",
      "Test accuracy: 60.246%\n",
      "Minibatch train loss at step 2400 : 88.303894\n",
      "Minibatch train accuracy: 50.000%\n",
      "Test loss: 85.403\n",
      "Test accuracy: 58.470%\n",
      "Minibatch train loss at step 2500 : 67.60521\n",
      "Minibatch train accuracy: 63.281%\n",
      "Test loss: 80.053\n",
      "Test accuracy: 60.417%\n",
      "Minibatch train loss at step 2600 : 92.49869\n",
      "Minibatch train accuracy: 54.688%\n",
      "Test loss: 81.994\n",
      "Test accuracy: 59.016%\n",
      "Minibatch train loss at step 2700 : 36.034157\n",
      "Minibatch train accuracy: 79.688%\n",
      "Test loss: 77.836\n",
      "Test accuracy: 60.348%\n",
      "Minibatch train loss at step 2800 : 46.8868\n",
      "Minibatch train accuracy: 67.969%\n",
      "Test loss: 73.397\n",
      "Test accuracy: 62.944%\n",
      "Minibatch train loss at step 2900 : 73.88872\n",
      "Minibatch train accuracy: 57.031%\n",
      "Test loss: 78.117\n",
      "Test accuracy: 58.948%\n"
     ]
    }
   ],
   "source": [
    "a = tf.compat.v1.placeholder(tf.float32)\n",
    "b = tf.compat.v1.placeholder(tf.float32)\n",
    "c = tf.add(a, b)\n",
    "d = tf.subtract(b, 1)\n",
    "e = tf.multiply(c, d)\n",
    "\n",
    "with tf.compat.v1.Session() as session:\n",
    "    a_data, b_data = 3.0, 6.0\n",
    "    feed_dict = {a: a_data, b: b_data}\n",
    "    output = session.run([e], feed_dict=feed_dict)\n",
    "    print(output) # 45.0\n",
    "    \n",
    "n_input_nodes = 2\n",
    "n_output_nodes = 1\n",
    "x = tf.compat.v1.placeholder(tf.float32, (None, n_input_nodes))\n",
    "W = tf.Variable(tf.ones((n_input_nodes, n_output_nodes)), dtype=tf.float32)\n",
    "b = tf.Variable(tf.zeros(n_output_nodes), dtype=tf.float32)\n",
    "\n",
    "'''TODO: Define the operation for z (use tf.matmul to multiply W and x).'''\n",
    "z = tf.matmul(x, W) + b\n",
    "\n",
    "'''TODO: Define the operation for out (use tf.sigmoid).'''\n",
    "out = tf.sigmoid(z)\n",
    "\n",
    "\n",
    "test_input = [[0.5, 0.5]]\n",
    "with tf.compat.v1.Session() as session:\n",
    "    tf.compat.v1.global_variables_initializer().run(session=session)\n",
    "    feed_dict = {x: test_input}\n",
    "    output = session.run([out], feed_dict=feed_dict)\n",
    "    print(output[0]) # This should output 0.73105. If not, double-check your code above\n",
    "\n",
    "    \n",
    "    \n",
    "    \n",
    "'''TODO: manually optimize weight_values and bias_value to classify points'''\n",
    "\n",
    "# Modify weight_values, bias_value in the above code to adjust the decision boundary\n",
    "# See if you can classify all the points correctly (all markers green)\n",
    "\n",
    "weight_values = np.array([[-0.1], [0.2]]) # TODO change values and re-run\n",
    "bias_value = np.array([[0.5]]) #TODO change values and re-run\n",
    "\n",
    "# A pretty good boundary is made with:\n",
    "weight_values = np.array([[0.03], [0.12]])\n",
    "bias_value = np.array([[-0.5]])\n",
    "\n",
    "x = tf.compat.v1.placeholder(tf.float32, (None, 2), name='x')\n",
    "W = tf.Variable(weight_values, name='W', dtype=tf.float32)\n",
    "b = tf.Variable(bias_value, name='b', dtype=tf.float32)\n",
    "z = tf.matmul(x, W) + b\n",
    "out = tf.sigmoid(z)\n",
    "\n",
    "data = np.array([[2, 7], [1, 7], [3, 1], [3, 3], [4, 3], [4, 6], [6, 5], [7, 7], [7, 5], [2, 4], [2, 2]])\n",
    "y = np.array([1, 1, 0, 0, 0, 1, 1, 1, 1, 0, 0])\n",
    "with tf.compat.v1.Session() as session:\n",
    "    tf.compat.v1.global_variables_initializer().run(session=session)\n",
    "    utils.classify_and_plot(data, y, x, out, session)\n",
    "    \n",
    "    \n",
    "    \n",
    "# load data\n",
    "X, y, index_to_word, sentences = utils.load_sentiment_data_bow()\n",
    "X_train, y_train, X_test, y_test = utils.split_data(X, y)\n",
    "vocab_size = X.shape[1]\n",
    "n_classes = y.shape[1]\n",
    "\n",
    "print(\"Tweet:\", sentences[5])\n",
    "print(\"Label:\", y[5])\n",
    "print(\"Bag of Words Representation:\", X_train[5])\n",
    "\n",
    "data_placeholder = tf.compat.v1.placeholder(tf.float32, shape=(None, vocab_size), name='data_placeholder')\n",
    "\n",
    "'''TODO: Make the labels placeholder.''';\n",
    "labels_placeholder = tf.compat.v1.placeholder(tf.float32, shape=(None, n_classes), name='labels_placeholder')\n",
    "\n",
    "\n",
    "# Define Network Parameters\n",
    "\n",
    "# Here, we can define how many units will be in each hidden layer.\n",
    "n_hidden_units_h0 = 512 \n",
    "n_hidden_units_h1 = 256\n",
    "\n",
    "# Weights going from input to first hidden layer.\n",
    "# The first value passed into tf.Variable is initialization of the variable. \n",
    "# We initialize our weights to be sampled from a truncated normal, as this does something \n",
    "# called symmetry breaking and keeps the neural network from getting stuck at the start.\n",
    "# Since the weight matrix multiplies the previous layer to get inputs to the next layer,\n",
    "# its size is prev_layer_size x next_layer_size.\n",
    "h0_weights = tf.Variable(\n",
    "    tf.random.truncated_normal([vocab_size, n_hidden_units_h0]),\n",
    "    name='h0_weights')\n",
    "h0_biases = tf.Variable(tf.zeros([n_hidden_units_h0]),\n",
    "                     name='h0_biases')\n",
    "\n",
    "'''TODO: Set up variables for the weights going into the second hidden layer.  \n",
    "You can check out the tf.Variable API here: https://www.tensorflow.org/api_docs/python/tf/Variable.\n",
    "''';\n",
    "h1_weights = tf.Variable(\n",
    "    tf.random.truncated_normal([n_hidden_units_h0, n_hidden_units_h1]),\n",
    "    name='h1_weights')\n",
    "h1_biases = tf.Variable(tf.zeros([n_hidden_units_h1]),\n",
    "                     name='h1_biases')\n",
    "\n",
    "# Weights going into the output layer.\n",
    "out_weights = tf.Variable(\n",
    "    tf.random.truncated_normal([n_hidden_units_h1, n_classes]),\n",
    "    name='out_weights')\n",
    "out_biases = tf.Variable(tf.zeros([n_classes]),\n",
    "                     name='out_biases')\n",
    "\n",
    "# Define Computation Graphs\n",
    "hidden0 = tf.nn.relu(tf.matmul(data_placeholder, h0_weights) + h0_biases)\n",
    "\n",
    "'''TODO: write the computation to get the output of the second hidden layer.''';\n",
    "hidden1 = tf.nn.relu(tf.matmul(hidden0, h1_weights) + h1_biases)\n",
    "\n",
    "logits = tf.matmul(hidden1, out_weights) + out_biases\n",
    "\n",
    "'''TODO: Define the loss.  Use tf.nn.softmax_cross_entropy_with_logits.'''\n",
    "loss = tf.reduce_mean(\n",
    "    tf.nn.softmax_cross_entropy_with_logits(logits=logits, labels=labels_placeholder))\n",
    "learning_rate = 0.0002\n",
    "\n",
    "# Define the optimizer operation.  This is what will take the derivate of the loss \n",
    "# with respect to each of our parameters and try to minimize it.\n",
    "optimizer = tf.compat.v1.train.GradientDescentOptimizer(learning_rate).minimize(loss)\n",
    "prediction = tf.nn.softmax(logits)\n",
    "\n",
    "# Compute the accuracy\n",
    "prediction_is_correct = tf.equal(tf.argmax(logits, 1), tf.argmax(labels_placeholder, 1))\n",
    "accuracy = tf.reduce_mean(tf.cast(prediction_is_correct, tf.float32))\n",
    "\n",
    "num_steps = 3000\n",
    "batch_size = 128\n",
    "\n",
    "with tf.compat.v1.Session() as session:\n",
    "    \n",
    "    # this operation initializes all the variables we made earlier.\n",
    "    tf.compat.v1.global_variables_initializer().run()\n",
    "\n",
    "    for step in range(num_steps):\n",
    "        # Generate a minibatch.\n",
    "        offset = (step * batch_size) % (X_train.shape[0] - batch_size)\n",
    "        batch_data = X_train[offset:(offset + batch_size), :]\n",
    "        batch_labels = y_train[offset:(offset + batch_size), :]\n",
    "        \n",
    "        # Create a dictionary to pass in the batch data.\n",
    "        feed_dict_train = {data_placeholder: batch_data, labels_placeholder : batch_labels}\n",
    "        \n",
    "        # Run the optimizer, the loss, the predictions.\n",
    "        # We can run multiple things at once and get their outputs.\n",
    "        _, loss_value_train, predictions_value_train, accuracy_value_train = session.run(\n",
    "          [optimizer, loss, prediction, accuracy], feed_dict=feed_dict_train)\n",
    "        \n",
    "        # Print stuff every once in a while.\n",
    "        if (step % 100 == 0):\n",
    "            print(\"Minibatch train loss at step\", step, \":\", loss_value_train)\n",
    "            print(\"Minibatch train accuracy: %.3f%%\" % (accuracy_value_train*100))\n",
    "            feed_dict_test = {data_placeholder: X_test, labels_placeholder: y_test}\n",
    "            loss_value_test, predictions_value_test, accuracy_value_test = session.run(\n",
    "                [loss, prediction, accuracy], feed_dict=feed_dict_test)\n",
    "            print(\"Test loss: %.3f\" % loss_value_test)\n",
    "            print(\"Test accuracy: %.3f%%\" % (accuracy_value_test*100))"
   ]
  },
  {
   "cell_type": "code",
   "execution_count": null,
   "metadata": {
    "collapsed": true
   },
   "outputs": [],
   "source": []
  }
 ],
 "metadata": {
  "anaconda-cloud": {},
  "kernelspec": {
   "display_name": "Python 3 (ipykernel)",
   "language": "python",
   "name": "python3"
  },
  "language_info": {
   "codemirror_mode": {
    "name": "ipython",
    "version": 3
   },
   "file_extension": ".py",
   "mimetype": "text/x-python",
   "name": "python",
   "nbconvert_exporter": "python",
   "pygments_lexer": "ipython3",
   "version": "3.9.6"
  },
  "name": "_merged"
 },
 "nbformat": 4,
 "nbformat_minor": 1
}
