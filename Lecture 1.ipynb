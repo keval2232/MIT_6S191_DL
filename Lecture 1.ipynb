{
 "cells": [
  {
   "cell_type": "markdown",
   "id": "647450c1",
   "metadata": {},
   "source": [
    "# Dense layer from scratch"
   ]
  },
  {
   "cell_type": "code",
   "execution_count": 21,
   "id": "5771ec65",
   "metadata": {},
   "outputs": [
    {
     "name": "stdout",
     "output_type": "stream",
     "text": [
      "Requirement already satisfied: mitdeeplearning in c:\\users\\lenovo\\appdata\\local\\programs\\python\\python39\\lib\\site-packages (0.2.0)\n",
      "Requirement already satisfied: regex in c:\\users\\lenovo\\appdata\\local\\programs\\python\\python39\\lib\\site-packages (from mitdeeplearning) (2021.8.3)\n",
      "Requirement already satisfied: numpy in c:\\users\\lenovo\\appdata\\local\\programs\\python\\python39\\lib\\site-packages (from mitdeeplearning) (1.19.5)\n",
      "Requirement already satisfied: gym in c:\\users\\lenovo\\appdata\\local\\programs\\python\\python39\\lib\\site-packages (from mitdeeplearning) (0.20.0)\n",
      "Requirement already satisfied: tqdm in c:\\users\\lenovo\\appdata\\local\\programs\\python\\python39\\lib\\site-packages (from mitdeeplearning) (4.62.0)\n",
      "Requirement already satisfied: cloudpickle>=1.2.0 in c:\\users\\lenovo\\appdata\\local\\programs\\python\\python39\\lib\\site-packages (from gym->mitdeeplearning) (1.6.0)\n",
      "Requirement already satisfied: colorama in c:\\users\\lenovo\\appdata\\local\\programs\\python\\python39\\lib\\site-packages (from tqdm->mitdeeplearning) (0.4.3)\n"
     ]
    },
    {
     "name": "stderr",
     "output_type": "stream",
     "text": [
      "WARNING: Ignoring invalid distribution -pencv-python (c:\\users\\lenovo\\appdata\\local\\programs\\python\\python39\\lib\\site-packages)\n",
      "WARNING: Ignoring invalid distribution -pencv-python-headless (c:\\users\\lenovo\\appdata\\local\\programs\\python\\python39\\lib\\site-packages)\n",
      "WARNING: Ignoring invalid distribution - (c:\\users\\lenovo\\appdata\\local\\programs\\python\\python39\\lib\\site-packages)\n",
      "WARNING: Ignoring invalid distribution -pencv-python (c:\\users\\lenovo\\appdata\\local\\programs\\python\\python39\\lib\\site-packages)\n",
      "WARNING: Ignoring invalid distribution -pencv-python-headless (c:\\users\\lenovo\\appdata\\local\\programs\\python\\python39\\lib\\site-packages)\n",
      "WARNING: Ignoring invalid distribution - (c:\\users\\lenovo\\appdata\\local\\programs\\python\\python39\\lib\\site-packages)\n",
      "WARNING: Ignoring invalid distribution -pencv-python (c:\\users\\lenovo\\appdata\\local\\programs\\python\\python39\\lib\\site-packages)\n",
      "WARNING: Ignoring invalid distribution -pencv-python-headless (c:\\users\\lenovo\\appdata\\local\\programs\\python\\python39\\lib\\site-packages)\n",
      "WARNING: Ignoring invalid distribution - (c:\\users\\lenovo\\appdata\\local\\programs\\python\\python39\\lib\\site-packages)\n",
      "WARNING: Ignoring invalid distribution -pencv-python (c:\\users\\lenovo\\appdata\\local\\programs\\python\\python39\\lib\\site-packages)\n",
      "WARNING: Ignoring invalid distribution -pencv-python-headless (c:\\users\\lenovo\\appdata\\local\\programs\\python\\python39\\lib\\site-packages)\n",
      "WARNING: Ignoring invalid distribution - (c:\\users\\lenovo\\appdata\\local\\programs\\python\\python39\\lib\\site-packages)\n",
      "WARNING: Ignoring invalid distribution -pencv-python (c:\\users\\lenovo\\appdata\\local\\programs\\python\\python39\\lib\\site-packages)\n",
      "WARNING: Ignoring invalid distribution -pencv-python-headless (c:\\users\\lenovo\\appdata\\local\\programs\\python\\python39\\lib\\site-packages)\n",
      "WARNING: Ignoring invalid distribution - (c:\\users\\lenovo\\appdata\\local\\programs\\python\\python39\\lib\\site-packages)\n"
     ]
    }
   ],
   "source": [
    "import tensorflow as tf\n",
    "from tensorflow.keras import Sequential\n",
    "from tensorflow.keras.layers import Dense\n",
    "!pip install mitdeeplearning\n",
    "import mitdeeplearning as mdl\n",
    "\n",
    "import numpy as np\n",
    "import matplotlib.pyplot as plt"
   ]
  },
  {
   "cell_type": "code",
   "execution_count": 2,
   "id": "480e21f6",
   "metadata": {},
   "outputs": [],
   "source": [
    "class MyDenseLayer(tf.keras.layers.Layer):\n",
    "    def __init__(self,n_output_nodes):\n",
    "        super(MyDenseLayer,self).__init__()\n",
    "        self.n_output_nodes = n_output_nodes\n",
    "\n",
    "        #initilize the w and b\n",
    "        \n",
    "    #calling the perceptron \n",
    "    def build(self,input_shape):\n",
    "        d = int(input_shape[-1])\n",
    "        self.W = self.add_weight(\"weight\", shape=[d, self.n_output_nodes]) # note the dimensionality\n",
    "        self.b = self.add_weight(\"bias\", shape=[1, self.n_output_nodes]) \n",
    "    \n",
    "    def call(self,inputs):\n",
    "        z=tf.matmul(inputs,self.W)+self.b\n",
    "        output=tf.math.sigmoid(z)\n",
    "        return output"
   ]
  },
  {
   "cell_type": "markdown",
   "id": "8a3800b9",
   "metadata": {},
   "source": [
    "# Dense layer using tf framework"
   ]
  },
  {
   "cell_type": "code",
   "execution_count": 3,
   "id": "721739bd",
   "metadata": {},
   "outputs": [],
   "source": [
    "layer=tf.keras.layers.Dense(units=2)"
   ]
  },
  {
   "cell_type": "markdown",
   "id": "ca134d6e",
   "metadata": {},
   "source": [
    "# loss"
   ]
  },
  {
   "cell_type": "code",
   "execution_count": 4,
   "id": "2de71740",
   "metadata": {},
   "outputs": [
    {
     "ename": "NameError",
     "evalue": "name 'y' is not defined",
     "output_type": "error",
     "traceback": [
      "\u001b[1;31m---------------------------------------------------------------------------\u001b[0m",
      "\u001b[1;31mNameError\u001b[0m                                 Traceback (most recent call last)",
      "\u001b[1;32m~\\AppData\\Local\\Temp/ipykernel_13828/2763936715.py\u001b[0m in \u001b[0;36m<module>\u001b[1;34m\u001b[0m\n\u001b[1;32m----> 1\u001b[1;33m \u001b[0mloss\u001b[0m\u001b[1;33m=\u001b[0m\u001b[0mtf\u001b[0m\u001b[1;33m.\u001b[0m\u001b[0mreduce_mean\u001b[0m\u001b[1;33m(\u001b[0m\u001b[0mtf\u001b[0m\u001b[1;33m.\u001b[0m\u001b[0mnn\u001b[0m\u001b[1;33m.\u001b[0m\u001b[0msoftmax_cross_entropy_with_logits\u001b[0m\u001b[1;33m(\u001b[0m\u001b[0my\u001b[0m\u001b[1;33m,\u001b[0m\u001b[0mpredicted\u001b[0m\u001b[1;33m)\u001b[0m\u001b[1;33m)\u001b[0m\u001b[1;33m\u001b[0m\u001b[1;33m\u001b[0m\u001b[0m\n\u001b[0m\u001b[0;32m      2\u001b[0m \u001b[0mloss\u001b[0m\u001b[1;33m=\u001b[0m\u001b[0mtf\u001b[0m\u001b[1;33m.\u001b[0m\u001b[0mkeras\u001b[0m\u001b[1;33m.\u001b[0m\u001b[0mlosses\u001b[0m\u001b[1;33m.\u001b[0m\u001b[0mMSE\u001b[0m\u001b[1;33m(\u001b[0m\u001b[0my\u001b[0m\u001b[1;33m,\u001b[0m\u001b[0mpredicted\u001b[0m\u001b[1;33m)\u001b[0m\u001b[1;33m\u001b[0m\u001b[1;33m\u001b[0m\u001b[0m\n",
      "\u001b[1;31mNameError\u001b[0m: name 'y' is not defined"
     ]
    }
   ],
   "source": [
    "loss=tf.reduce_mean(tf.nn.softmax_cross_entropy_with_logits(y,predicted))\n",
    "loss=tf.keras.losses.MSE(y,predicted)"
   ]
  },
  {
   "cell_type": "code",
   "execution_count": null,
   "id": "eaa0aadc",
   "metadata": {},
   "outputs": [],
   "source": [
    "optimizer=tf.keras.optimizers.SGD()\n",
    "while True:\n",
    "    prediction=model(x)\n",
    "    with tf.GradientTape() as tape:\n",
    "        loss = compute_loss(y,prediction)\n",
    "    grads=tape.gradient(loss,model.trainable_variables)\n",
    "    optimizer.apply_gradients(zip(grads,model.trainable_variables))"
   ]
  },
  {
   "cell_type": "markdown",
   "id": "836c8ddb",
   "metadata": {},
   "source": [
    "# Here realworks begin "
   ]
  },
  {
   "cell_type": "code",
   "execution_count": 5,
   "id": "03f96225",
   "metadata": {},
   "outputs": [
    {
     "name": "stdout",
     "output_type": "stream",
     "text": [
      "[[0.26978594 0.45750415 0.66536945]]\n"
     ]
    }
   ],
   "source": [
    "tf.random.set_seed(1)\n",
    "layer = MyDenseLayer(3)\n",
    "layer.build((1,2))\n",
    "x_input = tf.constant([[1,2.]], shape=(1,2))\n",
    "y = layer.call(x_input)\n",
    "\n",
    "# test the output!\n",
    "print(y.numpy())\n",
    "#mdl.lab1.test_custom_dense_layer_output(y)"
   ]
  },
  {
   "cell_type": "markdown",
   "id": "bac2b18c",
   "metadata": {},
   "source": [
    "<b>### Defining a neural network using the Sequential API ### </b>"
   ]
  },
  {
   "cell_type": "code",
   "execution_count": 6,
   "id": "5cbf62d1",
   "metadata": {},
   "outputs": [],
   "source": [
    "n_output_nodes = 3 #nuber of output\n",
    "model = Sequential() #definind sequential model\n",
    "dense_layer = Dense(n_output_nodes, activation='sigmoid') # TODO #dense layer\n",
    "model.add(dense_layer)\n",
    "\n",
    "\n",
    "\n"
   ]
  },
  {
   "cell_type": "code",
   "execution_count": 7,
   "id": "35782607",
   "metadata": {},
   "outputs": [
    {
     "name": "stdout",
     "output_type": "stream",
     "text": [
      "[[0.5607363  0.65668976 0.12496966]]\n"
     ]
    }
   ],
   "source": [
    "x_input = tf.constant([[1,2.]], shape=(1,2))\n",
    "\n",
    "'''TODO: feed input into the model and predict the output!'''\n",
    "model_output = model(x_input).numpy()\n",
    "# model_output = # TODO\n",
    "print(model_output)"
   ]
  },
  {
   "cell_type": "markdown",
   "id": "3c334879",
   "metadata": {},
   "source": [
    "# Sub class model "
   ]
  },
  {
   "cell_type": "code",
   "execution_count": 12,
   "id": "65b2af8f",
   "metadata": {},
   "outputs": [],
   "source": [
    "class SubclassModel(tf.keras.Model):\n",
    "    def __init__(self,n_output_nodes):\n",
    "        super(SubclassModel,self).__init__()\n",
    "        self.dense_layer=Dense(n_output_nodes,activation='sigmoid')\n",
    "    def call(self,inputs):\n",
    "        return self.dense_layer(inputs)\n",
    "    "
   ]
  },
  {
   "cell_type": "markdown",
   "id": "232fb2c2",
   "metadata": {},
   "source": [
    "Just like the model we built using the `Sequential` API, let's test out our `SubclassModel` using an example input.\n",
    "\n"
   ]
  },
  {
   "cell_type": "code",
   "execution_count": 14,
   "id": "528b494e",
   "metadata": {},
   "outputs": [
    {
     "name": "stdout",
     "output_type": "stream",
     "text": [
      "tf.Tensor([[0.29996255 0.62776643 0.48460072]], shape=(1, 3), dtype=float32)\n"
     ]
    }
   ],
   "source": [
    "n_output_nodes = 3\n",
    "model = SubclassModel(n_output_nodes)\n",
    "\n",
    "x_input = tf.constant([[1,2.]], shape=(1,2))\n",
    "\n",
    "print(model.call(x_input))"
   ]
  },
  {
   "cell_type": "markdown",
   "id": "e653c378",
   "metadata": {},
   "source": [
    "Importantly, Subclassing affords us a lot of flexibility to define custom models. For example, we can use boolean arguments in the `call` function to specify different network behaviors, for example different behaviors during training and inference. Let's suppose under some instances we want our network to simply output the input, without any perturbation. We define a boolean argument `isidentity` to control this behavior:"
   ]
  },
  {
   "cell_type": "markdown",
   "id": "1b1fece7",
   "metadata": {},
   "source": [
    "<h3>Identity model </h3>"
   ]
  },
  {
   "cell_type": "code",
   "execution_count": 16,
   "id": "16fd09a2",
   "metadata": {},
   "outputs": [],
   "source": [
    "class IdentityModel(tf.keras.Model):\n",
    "    def __init__(self,n_output_nodes):\n",
    "        super(IdentityModel,self).__init__()\n",
    "        self.dense_layer=tf.keras.layers.Dense(n_output_nodes,activation='sigmoid')\n",
    "    def call(self,inputs,isidentity=False):\n",
    "        x=self.dense_layer(inputs)\n",
    "        if isidentity:\n",
    "            return inputs\n",
    "        return x\n"
   ]
  },
  {
   "cell_type": "code",
   "execution_count": 17,
   "id": "a5020ea7",
   "metadata": {},
   "outputs": [
    {
     "name": "stdout",
     "output_type": "stream",
     "text": [
      "Network output with activation: [[0.1969584 0.6330007 0.7668015]]; network identity output: [[1. 2.]]\n"
     ]
    }
   ],
   "source": [
    "n_output_nodes = 3\n",
    "model = IdentityModel(n_output_nodes)\n",
    "\n",
    "x_input = tf.constant([[1,2.]], shape=(1,2))\n",
    "'''TODO: pass the input into the model and call with and without the input identity option.'''\n",
    "out_activate = model.call(x_input) # TODO\n",
    "# out_activate = # TODO\n",
    "out_identity = model.call(x_input, isidentity=True) # TODO\n",
    "# out_identity = # TODO\n",
    "\n",
    "print(\"Network output with activation: {}; network identity output: {}\".format(out_activate.numpy(), out_identity.numpy()))"
   ]
  },
  {
   "cell_type": "markdown",
   "id": "47e63794",
   "metadata": {},
   "source": [
    "## 1.4 Automatic differentiation in TensorFlow\n",
    "\n",
    "[Automatic differentiation](https://en.wikipedia.org/wiki/Automatic_differentiation)\n",
    "is one of the most important parts of TensorFlow and is the backbone of training with \n",
    "[backpropagation](https://en.wikipedia.org/wiki/Backpropagation). We will use the TensorFlow GradientTape [`tf.GradientTape`](https://www.tensorflow.org/api_docs/python/tf/GradientTape?version=stable) to trace operations for computing gradients later. \n",
    "\n",
    "When a forward pass is made through the network, all forward-pass operations get recorded to a \"tape\"; then, to compute the gradient, the tape is played backwards. By default, the tape is discarded after it is played backwards; this means that a particular `tf.GradientTape` can only\n",
    "compute one gradient, and subsequent calls throw a runtime error. However, we can compute multiple gradients over the same computation by creating a ```persistent``` gradient tape. \n",
    "\n",
    "First, we will look at how we can compute gradients using GradientTape and access them for computation. We define the simple function $ y = x^2$ and compute the gradient:"
   ]
  },
  {
   "cell_type": "markdown",
   "id": "55b0f6c3",
   "metadata": {},
   "source": [
    "## concepts of Gradient tape"
   ]
  },
  {
   "cell_type": "code",
   "execution_count": 19,
   "id": "fa2cc14a",
   "metadata": {},
   "outputs": [],
   "source": [
    "### Gradient computation with GradientTape ###\n",
    "\n",
    "x = tf.Variable(3.0)\n",
    "\n",
    "# Initiate the gradient tape\n",
    "with tf.GradientTape() as tape:\n",
    "  # Define the function\n",
    "  y = x * x\n",
    "dy_dx = tape.gradient(y, x)\n",
    "\n",
    "assert dy_dx.numpy() == 6.0"
   ]
  },
  {
   "cell_type": "code",
   "execution_count": 26,
   "id": "0e1288ad",
   "metadata": {},
   "outputs": [
    {
     "name": "stdout",
     "output_type": "stream",
     "text": [
      "Initializing x=[[-0.8340743]]\n"
     ]
    },
    {
     "data": {
      "text/plain": [
       "Text(0, 0.5, 'x value')"
      ]
     },
     "execution_count": 26,
     "metadata": {},
     "output_type": "execute_result"
    },
    {
     "data": {
      "image/png": "[encoded data removed]",
      "text/plain": [
       "<Figure size 432x288 with 1 Axes>"
      ]
     },
     "metadata": {
      "needs_background": "light"
     },
     "output_type": "display_data"
    }
   ],
   "source": [
    "### Function minimization with automatic differentiation and SGD ###\n",
    "\n",
    "# Initialize a random value for our initial x\n",
    "x = tf.Variable([tf.random.normal([1])])\n",
    "print(\"Initializing x={}\".format(x.numpy()))\n",
    "\n",
    "learning_rate = 1e-2 # learning rate for SGD\n",
    "history = []\n",
    "# Define the target value\n",
    "x_f = 4\n",
    "\n",
    "# We will run SGD for a number of iterations. At each iteration, we compute the loss, \n",
    "#   compute the derivative of the loss with respect to x, and perform the SGD update.\n",
    "for i in range(500):\n",
    "  with tf.GradientTape() as tape:\n",
    "    '''TODO: define the loss as described above'''\n",
    "    loss = (x - x_f)**2 # \"forward pass\": record the current loss on the tape\n",
    "    # loss = # TODO\n",
    "\n",
    "  # loss minimization using gradient tape\n",
    "  grad = tape.gradient(loss, x) # compute the derivative of the loss with respect to x\n",
    "  new_x = x - learning_rate*grad # sgd update\n",
    "  x.assign(new_x) # update the value of x\n",
    "  history.append(x.numpy()[0])\n",
    "\n",
    "# Plot the evolution of x as we optimize towards x_f!\n",
    "plt.plot(history)\n",
    "plt.plot([0, 500],[x_f,x_f])\n",
    "plt.legend(('Predicted', 'True'))\n",
    "plt.xlabel('Iteration')\n",
    "plt.ylabel('x value')"
   ]
  },
  {
   "cell_type": "code",
   "execution_count": null,
   "id": "8b451358",
   "metadata": {},
   "outputs": [],
   "source": []
  }
 ],
 "metadata": {
  "kernelspec": {
   "display_name": "Python 3 (ipykernel)",
   "language": "python",
   "name": "python3"
  },
  "language_info": {
   "codemirror_mode": {
    "name": "ipython",
    "version": 3
   },
   "file_extension": ".py",
   "mimetype": "text/x-python",
   "name": "python",
   "nbconvert_exporter": "python",
   "pygments_lexer": "ipython3",
   "version": "3.9.6"
  }
 },
 "nbformat": 4,
 "nbformat_minor": 5
}
